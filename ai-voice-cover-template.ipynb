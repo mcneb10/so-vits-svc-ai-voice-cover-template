{
 "cells": [
  {
   "cell_type": "markdown",
   "id": "5ed6f955-e855-4a90-be2a-a9a37d8dd9af",
   "metadata": {},
   "source": [
    "# Initial setup\n",
    "**NOTE:** you must install `virtualenv` and `ipynbname` globally before running this notebook\n",
    "\n",
    "Should be run in Unix environment\n",
    "\n",
    "*Estimated time*: 5 minutes"
   ]
  },
  {
   "cell_type": "code",
   "execution_count": null,
   "id": "f00b6ad8-a1bb-4885-91a3-60cd23b9e3c0",
   "metadata": {
    "scrolled": true
   },
   "outputs": [],
   "source": [
    "import ipynbname, os\n",
    "\n",
    "def install_package(package, data_path):\n",
    "    return_code = os.system(f\"{data_path}bin/pip install --ignore-requires-python {package}\")\n",
    "    if return_code != 0:\n",
    "        print(f\"** Error installing: {package}\")\n",
    "\n",
    "def is_package_installed(package, data_path):\n",
    "    return os.system(f\"{data_path}bin/pip show {package} > /dev/null\") == 0\n",
    "os.chdir(ipynbname.path().parent.absolute())\n",
    "data_path=f\"./{ipynbname.name()}/\"\n",
    "# Make the venv if it doesn't already exist\n",
    "if not os.path.exists(f\"{data_path}bin/\"):\n",
    "    print(f\"** Creating venv at {data_path}\")\n",
    "    os.system(f\"virtualenv {data_path}\")\n",
    "# Install the requried packages\n",
    "for package in ['ffmpeg', 'demucs', 'pyworld', 'so-vits-svc-fork', 'pydub']:\n",
    "   if not is_package_installed(package, data_path):\n",
    "    print(f\"** Installing {package}\")\n",
    "    install_package(package, data_path)\n",
    "os.chdir(data_path)\n",
    "os.makedirs(os.path.expanduser()+'/separated')\n",
    "os.symlink(os.path.expanduser()+'/separated', './separated')"
   ]
  },
  {
   "cell_type": "markdown",
   "id": "6cea053e-54a3-4d63-bc67-51c5849808a9",
   "metadata": {},
   "source": [
    "# Split the audio\n",
    "*Estimated time*: Many hours, depends on audio clip length. Took ~3 hours with a 3GB wav file. You will have to manually download an audio file and place it in the directory where the notebook is for the dataset"
   ]
  },
  {
   "cell_type": "code",
   "execution_count": null,
   "id": "3deabcda-0b06-4900-ad1a-fefe1c1b6e34",
   "metadata": {},
   "outputs": [],
   "source": [
    "import ipywidgets as widgets\n",
    "from ipywidgets import interact, interact_manual\n",
    "from pathlib import Path\n",
    "# Split the audio if it exists\n",
    "audio_basename = ''\n",
    "@interact_manual(audio_path='')\n",
    "def split(audio_path):\n",
    "    global audio_basename\n",
    "    audio_basename = Path(audio_path).stem\n",
    "    if os.path.exists(audio_path):\n",
    "        os.system(f\"./bin/demucs --two-stems=vocals {audio_path}\")\n",
    "    else:\n",
    "        print(f\"Could not find or use file: {audio_path}\")"
   ]
  },
  {
   "cell_type": "markdown",
   "id": "a420c611-2fd3-40ab-be29-ecf1f741c41b",
   "metadata": {},
   "source": [
    "# Remove silences from audio file\n",
    "*Estimated time*: A few minutes. Took 30 min with 3 GB WAV file"
   ]
  },
  {
   "cell_type": "code",
   "execution_count": null,
   "id": "bf2a8796-c689-4542-a0ef-9be925e7b853",
   "metadata": {},
   "outputs": [],
   "source": [
    "from pydub import AudioSegment\n",
    "from pydub.silence import split_on_silence\n",
    "\n",
    "audio_vocals_path = f\"./separated/htdemucs/{audio_basename}/vocals.wav\"\n",
    "out_dir = f\"./dataset_raw/{audio_basename}/\"\n",
    "if not os.path.exists(out_dir):\n",
    "    os.makedirs(out_dir)\n",
    "\n",
    "@interact_manual(minimum_silence_length=widgets.IntSlider(min=0, max=5000, step=1, value=600), silence_threshold=widgets.IntSlider(min=--125, max=0, step=1, value=-45), keep_silence_in_audio_clips=False)\n",
    "def fragment(minimum_silence_length, silence_threshold, keep_silence_in_audio_clips):\n",
    "    if os.path.exists(audio_vocals_path):\n",
    "        # Load the audio\n",
    "        print(\"Loading audio file...\")\n",
    "        audio = AudioSegment.from_file(audio_vocals_path)\n",
    "        # Get segments with talking and put each into a file\n",
    "        i = 0\n",
    "        print(\"Splitting audio clips...\")\n",
    "        # TODO: change keep silence to make audio clips longer\n",
    "        chunks = split_on_silence(audio, min_silence_len=minimum_silence_length, silence_thresh=silence_threshold, keep_silence=keep_silence_in_audio_clips)\n",
    "        progress_bar = widgets.IntProgress(\n",
    "            value=0,\n",
    "            min=0,\n",
    "            max= len(chunks) - 1,\n",
    "            step=1,\n",
    "            description='Audio clips saved:',\n",
    "            bar_style='info',\n",
    "            orientation='horizontal'\n",
    "        )\n",
    "        print(\"Saving audio clips...\")\n",
    "        display(progress_bar)\n",
    "        for chunk in chunks:\n",
    "            chunk.export(f\"{out_dir}{i}.mp3\", format='mp3')\n",
    "            i = i + 1\n",
    "            progress_bar.value = i\n",
    "        print(\"Done.\")\n",
    "    else:\n",
    "        print(f\"Could not access vocals file {audio_vocals_path}\")"
   ]
  },
  {
   "cell_type": "markdown",
   "id": "85340747-4bb9-4eac-8025-c32e28acfd0f",
   "metadata": {},
   "source": [
    "# Prepration for training\n",
    "*Estimated Time*: ~10 minutes"
   ]
  },
  {
   "cell_type": "code",
   "execution_count": null,
   "id": "afd29b80-e5e4-4491-b2fb-1e186544bf89",
   "metadata": {
    "scrolled": true
   },
   "outputs": [],
   "source": [
    "svc = './bin/svc'\n",
    "@interact_manual(f0_method=[\"dio\", \"crepe-tiny\", \"parselmouth\", \"crepe\", \"harvest\"])\n",
    "def pre_train(f0_method):\n",
    "    print(\"Resampling...\")\n",
    "    os.system(f\"{svc} pre-resample\")\n",
    "    print(\"Configuring...\")\n",
    "    os.system(f\"{svc} pre-config -t so-vits-svc-4.0v1-legacy\")\n",
    "    print(\"HuBERTing...\")\n",
    "    os.system(f\"{svc} pre-hubert -fm {f0_method}\")"
   ]
  },
  {
   "cell_type": "markdown",
   "id": "829254b3-8a52-489d-811f-12fcdc3ae4fa",
   "metadata": {},
   "source": [
    "# Train!\n",
    "*Estimated Time*: Serveral hours **per** epoch"
   ]
  },
  {
   "cell_type": "code",
   "execution_count": null,
   "id": "5d92d06e-e587-43bb-a9af-e317b40c96e5",
   "metadata": {},
   "outputs": [],
   "source": [
    "import json\n",
    "\n",
    "@interact_manual(epochs = widgets.IntSlider(min=1, max=10000, step=1, value=1))\n",
    "def train(epochs):\n",
    "    with open('./configs/44k/config.json', \"r+\") as config_file:\n",
    "        config = json.load(config_file)\n",
    "        config['train']['epochs'] = epochs\n",
    "        config_file.seek(0)\n",
    "        json.dump(config, config_file, indent=4)\n",
    "        config_file.truncate()\n",
    "    os.system(f\"{svc} train\")"
   ]
  },
  {
   "cell_type": "markdown",
   "id": "474a0798-7a1e-4506-8e5b-546ac2a7b329",
   "metadata": {},
   "source": [
    "# Prepare song for inference\n",
    "*Estimated time*: A few minutes\n",
    "\n",
    "At this point, you must manually download the song you want to the folder with the name of this notebook inside of the folder where this notebook is stored. Just `yt-dlp` it. Once it is downloaded, input it's filename into the box."
   ]
  },
  {
   "cell_type": "code",
   "execution_count": null,
   "id": "9d78294f-7c54-45d3-9f18-ac0b4ca2ab50",
   "metadata": {},
   "outputs": [],
   "source": [
    "import ipywidgets as widgets\n",
    "from ipywidgets import interact, interact_manual\n",
    "from pathlib import Path\n",
    "# Split the audio if it exists\n",
    "song_basename=''\n",
    "@interact_manual(audio_path='')\n",
    "def split(audio_path):\n",
    "    global song_basename\n",
    "    song_basename = Path(audio_path).stem\n",
    "    if os.path.exists(audio_path):\n",
    "        os.system(f\"./bin/demucs --two-stems=vocals {audio_path}\")\n",
    "    else:\n",
    "        print(f\"Could not find or use file: {audio_path}\")"
   ]
  },
  {
   "cell_type": "markdown",
   "id": "92930425-801f-4399-95db-aa303aa0f423",
   "metadata": {},
   "source": [
    "# Do it!\n",
    "*Estimated time*: ~15 minutes at most\n",
    "\n",
    "Pitch -12 is down one octave 12 is up one. You must select if the audio is signing to make sure the correct options are set so the pitch isn't messed up."
   ]
  },
  {
   "cell_type": "code",
   "execution_count": null,
   "id": "cc3b1298-9f06-42d9-a076-9c8ab9718dc4",
   "metadata": {
    "scrolled": true
   },
   "outputs": [],
   "source": [
    "@interact_manual(pitch=widgets.IntSlider(min=-120, max=120, step=1, value=0), singing=True)\n",
    "def infer(pitch,singing):\n",
    "    na_arg = ''\n",
    "    if singing:\n",
    "        na_arg = ' -na'\n",
    "    os.system(f\"{svc} infer ./separated/htdemucs/{song_basename}/vocals.wav -t {pitch}{na_arg}\")"
   ]
  },
  {
   "cell_type": "markdown",
   "id": "d43bdbe0-baa6-4b30-9679-51ab70e1509a",
   "metadata": {},
   "source": [
    "# Merge background and vocals\n",
    "*Estimated time*: 1 minute"
   ]
  },
  {
   "cell_type": "code",
   "execution_count": null,
   "id": "8a259f31-436e-460e-9d08-ef6718b04053",
   "metadata": {},
   "outputs": [],
   "source": [
    "@interact_manual(output_wav_filename=f\"{song_basename}_{audio_basename}.wav\")\n",
    "def merge(output_wav_filename):\n",
    "    vocals = AudioSegment.from_file(f\"./separated/htdemucs/{song_basename}/vocals.out.wav\")\n",
    "    background = AudioSegment.from_file(f\"./separated/htdemucs/{song_basename}/no_vocals.wav\")\n",
    "    result = background.overlay(vocals, position=0)\n",
    "    result.export(output_wav_filename)"
   ]
  },
  {
   "cell_type": "code",
   "execution_count": null,
   "id": "b52fb684-6f8a-4597-95c0-22e37b577dc9",
   "metadata": {},
   "outputs": [],
   "source": []
  }
 ],
 "metadata": {
  "kernelspec": {
   "display_name": "Python 3 (ipykernel)",
   "language": "python",
   "name": "python3"
  },
  "language_info": {
   "codemirror_mode": {
    "name": "ipython",
    "version": 3
   },
   "file_extension": ".py",
   "mimetype": "text/x-python",
   "name": "python",
   "nbconvert_exporter": "python",
   "pygments_lexer": "ipython3",
   "version": "3.11.2"
  }
 },
 "nbformat": 4,
 "nbformat_minor": 5
}
